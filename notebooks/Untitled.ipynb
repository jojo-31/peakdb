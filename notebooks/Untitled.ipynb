{
 "cells": [
  {
   "cell_type": "code",
   "execution_count": 5,
   "metadata": {},
   "outputs": [
    {
     "data": {
      "text/plain": [
       "'loc_2dsphere'"
      ]
     },
     "execution_count": 5,
     "metadata": {},
     "output_type": "execute_result"
    }
   ],
   "source": [
    "from pymongo import MongoClient, GEOSPHERE\n",
    "db = MongoClient().geo_example\n",
    "db.places.create_index([(\"loc\", GEOSPHERE)])"
   ]
  },
  {
   "cell_type": "code",
   "execution_count": 20,
   "metadata": {},
   "outputs": [],
   "source": [
    "db.places.delete_many({})\n",
    "result = db.places.insert_many([{\"loc\": [2.0, 5], \"name\": \"toto\"},\n",
    "                                 {\"loc\": [30, 5], \"name\": \"titi\"},\n",
    "                                 {\"loc\": [1, 2], \"name\": \"tata\"},\n",
    "                                 {\"loc\": [4, 4], \"name\": \"tutu\"}]) "
   ]
  },
  {
   "cell_type": "code",
   "execution_count": 21,
   "metadata": {},
   "outputs": [
    {
     "data": {
      "text/plain": [
       "[ObjectId('5f76302324dd1a35cb0cfc8c'),\n",
       " ObjectId('5f76302324dd1a35cb0cfc8d'),\n",
       " ObjectId('5f76302324dd1a35cb0cfc8e'),\n",
       " ObjectId('5f76302324dd1a35cb0cfc8f')]"
      ]
     },
     "execution_count": 21,
     "metadata": {},
     "output_type": "execute_result"
    }
   ],
   "source": [
    "result.inserted_ids"
   ]
  },
  {
   "cell_type": "code",
   "execution_count": 22,
   "metadata": {},
   "outputs": [
    {
     "name": "stdout",
     "output_type": "stream",
     "text": [
      "{'_id': ObjectId('5f76302324dd1a35cb0cfc8c'), 'loc': [2.0, 5], 'name': 'toto'}\n",
      "{'_id': ObjectId('5f76302324dd1a35cb0cfc8f'), 'loc': [4, 4], 'name': 'tutu'}\n",
      "{'_id': ObjectId('5f76302324dd1a35cb0cfc8e'), 'loc': [1, 2], 'name': 'tata'}\n",
      "{'_id': ObjectId('5f76302324dd1a35cb0cfc8d'), 'loc': [30, 5], 'name': 'titi'}\n"
     ]
    }
   ],
   "source": [
    "import pprint\n",
    "for doc in db.places.find({\"loc\": {\"$near\": [3, 6]}}).limit(300):\n",
    "    pprint.pprint(doc)"
   ]
  },
  {
   "cell_type": "code",
   "execution_count": 25,
   "metadata": {},
   "outputs": [
    {
     "name": "stdout",
     "output_type": "stream",
     "text": [
      "{'_id': ObjectId('5f76302324dd1a35cb0cfc8f'), 'loc': [4, 4], 'name': 'tutu'}\n"
     ]
    }
   ],
   "source": [
    "query = {\"loc\": {\"$within\": {\"$box\": [[2.5, 2], [5, 6]]}}}\n",
    "for doc in db.places.find(query).sort('_id'):\n",
    "     pprint.pprint(doc)"
   ]
  },
  {
   "cell_type": "code",
   "execution_count": null,
   "metadata": {},
   "outputs": [],
   "source": []
  }
 ],
 "metadata": {
  "kernelspec": {
   "display_name": "Python 3",
   "language": "python",
   "name": "python3"
  },
  "language_info": {
   "codemirror_mode": {
    "name": "ipython",
    "version": 3
   },
   "file_extension": ".py",
   "mimetype": "text/x-python",
   "name": "python",
   "nbconvert_exporter": "python",
   "pygments_lexer": "ipython3",
   "version": "3.6.8"
  }
 },
 "nbformat": 4,
 "nbformat_minor": 4
}
